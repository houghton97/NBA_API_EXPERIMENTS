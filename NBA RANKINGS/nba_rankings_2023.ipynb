{
 "cells": [
  {
   "attachments": {},
   "cell_type": "markdown",
   "metadata": {},
   "source": [
    "## NBA RANKINGS 2022-2023"
   ]
  },
  {
   "attachments": {},
   "cell_type": "markdown",
   "metadata": {},
   "source": [
    "* MINUTES"
   ]
  },
  {
   "cell_type": "code",
   "execution_count": 1,
   "metadata": {},
   "outputs": [
    {
     "ename": "TypeError",
     "evalue": "__init__() got an unexpected keyword argument 'seasonalltime'",
     "output_type": "error",
     "traceback": [
      "\u001b[1;31m---------------------------------------------------------------------------\u001b[0m",
      "\u001b[1;31mTypeError\u001b[0m                                 Traceback (most recent call last)",
      "Cell \u001b[1;32mIn [1], line 6\u001b[0m\n\u001b[0;32m      3\u001b[0m \u001b[39mimport\u001b[39;00m \u001b[39mpandas\u001b[39;00m \u001b[39mas\u001b[39;00m \u001b[39mpd\u001b[39;00m\n\u001b[0;32m      5\u001b[0m \u001b[39m# Hacer una solicitud a la API de NBA para obtener las estadísticas de todos los jugadores activos.\u001b[39;00m\n\u001b[1;32m----> 6\u001b[0m player_stats \u001b[39m=\u001b[39m LeagueDashPlayerStats(seasonalltime\u001b[39m=\u001b[39;49mSeasonAll\u001b[39m.\u001b[39;49mcurrent_season, timeout\u001b[39m=\u001b[39;49m\u001b[39m30\u001b[39;49m)\u001b[39m.\u001b[39mget_normalized_dict()[\u001b[39m\"\u001b[39m\u001b[39mLeagueDashPlayerStats\u001b[39m\u001b[39m\"\u001b[39m]\n\u001b[0;32m      7\u001b[0m \u001b[39m# Crear una lista vacía para almacenar los datos de cada jugador.\u001b[39;00m\n\u001b[0;32m      8\u001b[0m player_data \u001b[39m=\u001b[39m []\n",
      "\u001b[1;31mTypeError\u001b[0m: __init__() got an unexpected keyword argument 'seasonalltime'"
     ]
    }
   ],
   "source": [
    "from nba_api.stats.endpoints import LeagueDashPlayerStats\n",
    "from nba_api.stats.library.parameters import SeasonAll\n",
    "import pandas as pd\n",
    "\n",
    "# Hacer una solicitud a la API de NBA para obtener las estadísticas de todos los jugadores activos.\n",
    "player_stats = LeagueDashPlayerStats(season=SeasonAll.current_season, timeout=30).get_normalized_dict()[\"LeagueDashPlayerStats\"]\n",
    "# Crear una lista vacía para almacenar los datos de cada jugador.\n",
    "player_data = []\n",
    "\n",
    "# Iterar sobre la lista de estadísticas de los jugadores y obtener las estadísticas relevantes de cada jugador.\n",
    "for stats in player_stats:\n",
    "    player_name = stats['PLAYER_NAME']\n",
    "    team = stats['TEAM_ABBREVIATION']\n",
    "    games_played = stats['GP']\n",
    "    minutes_played = stats['MIN']\n",
    "    minutes_per_game = minutes_played / games_played\n",
    "    total_points = stats['PTS']\n",
    "    points_per_game = total_points / games_played\n",
    "    # Agregar las estadísticas del jugador a la lista de datos.\n",
    "    player_data.append([player_name, team, games_played, minutes_played, minutes_per_game, total_points, points_per_game])\n",
    "\n",
    "player_df = pd.DataFrame(player_data, columns=['player_name', 'team', 'games_played', \\\n",
    "                                               'minutes_played', 'minutes_per_game',\\\n",
    "                                                  'total_points', 'points_per_game'])\n",
    "player_df = player_df.sort_values(by=['minutes_played'], ascending=False)\n",
    "print(player_df)\n",
    "player_df.to_csv('nba_mins_games_2023.csv', sep=\";\", decimal=',')"
   ]
  },
  {
   "cell_type": "code",
   "execution_count": null,
   "metadata": {},
   "outputs": [],
   "source": []
  }
 ],
 "metadata": {
  "kernelspec": {
   "display_name": "nba_travel",
   "language": "python",
   "name": "python3"
  },
  "language_info": {
   "codemirror_mode": {
    "name": "ipython",
    "version": 3
   },
   "file_extension": ".py",
   "mimetype": "text/x-python",
   "name": "python",
   "nbconvert_exporter": "python",
   "pygments_lexer": "ipython3",
   "version": "3.8.15"
  },
  "orig_nbformat": 4,
  "vscode": {
   "interpreter": {
    "hash": "27030c21f51e86e23a76b5666d9e84e5b6488d8f8b3bdc9f68b33eafa61d3df8"
   }
  }
 },
 "nbformat": 4,
 "nbformat_minor": 2
}
